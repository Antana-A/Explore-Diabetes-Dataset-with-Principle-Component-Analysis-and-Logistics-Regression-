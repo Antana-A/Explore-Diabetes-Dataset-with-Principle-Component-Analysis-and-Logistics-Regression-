{
  "nbformat": 4,
  "nbformat_minor": 0,
  "metadata": {
    "colab": {
      "provenance": [],
      "authorship_tag": "ABX9TyN4fdEw0z+FkvhHLePJNW2c",
      "include_colab_link": true
    },
    "kernelspec": {
      "name": "python3",
      "display_name": "Python 3"
    },
    "language_info": {
      "name": "python"
    }
  },
  "cells": [
    {
      "cell_type": "markdown",
      "metadata": {
        "id": "view-in-github",
        "colab_type": "text"
      },
      "source": [
        "<a href=\"https://colab.research.google.com/github/Antana-A/Explore-Diabetes-Dataset-with-Principle-Component-Analysis-and-Logistics-Regression-/blob/main/Non-Negative%20Matrix%20Factorization.ipynb\" target=\"_parent\"><img src=\"https://colab.research.google.com/assets/colab-badge.svg\" alt=\"Open In Colab\"/></a>"
      ]
    },
    {
      "cell_type": "code",
      "execution_count": 3,
      "metadata": {
        "colab": {
          "base_uri": "https://localhost:8080/"
        },
        "id": "vHWuob5pe5o3",
        "outputId": "8280b04b-9cd1-4d1b-d8e2-2d75ee6b4b83"
      },
      "outputs": [
        {
          "output_type": "stream",
          "name": "stdout",
          "text": [
            "Mounted at /content/drive\n"
          ]
        }
      ],
      "source": [
        "import pandas as pd\n",
        "import numpy as np\n",
        "from google.colab import drive\n",
        "drive.mount('/content/drive')\n",
        "\n",
        "# Load the CSV files\n",
        "train_rna = pd.read_csv(\"/content/drive/MyDrive/training_set_rna.csv\",index_col=0).values\n",
        "train_adt = pd.read_csv(\"/content/drive/MyDrive/training_set_adt.csv\",index_col=0).values\n",
        "test_rna= pd.read_csv(\"/content/drive/MyDrive/test_set_rna.csv\",index_col=0).values\n"
      ]
    },
    {
      "cell_type": "code",
      "source": [
        "# Subset the data as specified\n",
        "train_rna_subset = train_rna[:,:3000]\n",
        "train_adt_subset = train_adt[:,:3000]\n",
        "test_rna_subset = train_rna[:,3000:]\n",
        "test_adt_subset = train_adt[:,3000:]\n",
        "train_adt_subset.shape,train_rna_subset.shape, test_rna_subset.shape, test_adt_subset.shape"
      ],
      "metadata": {
        "colab": {
          "base_uri": "https://localhost:8080/"
        },
        "id": "zR0Wrlmsfvt8",
        "outputId": "d3286b05-8c03-4e58-afe5-4a8ef7bf1caa"
      },
      "execution_count": 4,
      "outputs": [
        {
          "output_type": "execute_result",
          "data": {
            "text/plain": [
              "((25, 3000), (639, 3000), (639, 1000), (25, 1000))"
            ]
          },
          "metadata": {},
          "execution_count": 4
        }
      ]
    },
    {
      "cell_type": "markdown",
      "source": [
        "# Build a Linear Regression Model\n",
        "Build a linear regression model for each of the ADT proteins using Ordinary Least Squares (OLS), and evaluate the results using Pearson correlation,"
      ],
      "metadata": {
        "id": "7A1UNc8AhDMR"
      }
    },
    {
      "cell_type": "code",
      "source": [
        "from sklearn.linear_model import LinearRegression\n",
        "from scipy.stats import pearsonr\n",
        "import numpy as np\n",
        "\n",
        "# Initialize lists to store results\n",
        "pearson_correlations = []\n",
        "\n",
        "# Loop through each ADT protein in train_adt_subset\n",
        "for i in range(train_adt_subset.shape[0]):\n",
        "    # Select the target protein expression (y) for the current ADT protein\n",
        "    y_train = train_adt_subset[i, :]\n",
        "\n",
        "    # Create and fit the OLS linear regression model\n",
        "    model = LinearRegression()\n",
        "    model.fit(train_rna_subset.T, y_train)\n",
        "\n",
        "    # Predict the protein expression for the test set\n",
        "    y_pred = model.predict(test_rna_subset.T)\n",
        "\n",
        "    # Evaluate the model using Pearson correlation\n",
        "    correlation, _ = pearsonr(y_pred, test_adt_subset[i, :])\n",
        "    pearson_correlations.append(correlation)\n",
        "\n",
        "# Convert results to a numpy array\n",
        "pearson_correlations = np.array(pearson_correlations)\n",
        "\n",
        "# Display the Pearson correlations for all proteins\n",
        "pearson_correlations\n"
      ],
      "metadata": {
        "colab": {
          "base_uri": "https://localhost:8080/"
        },
        "id": "OPDGybVxfySV",
        "outputId": "ac36d582-21e3-4d4f-9d35-e1960f2cd095"
      },
      "execution_count": 5,
      "outputs": [
        {
          "output_type": "execute_result",
          "data": {
            "text/plain": [
              "array([0.88385489, 0.93963586, 0.74151062, 0.8182871 , 0.9365866 ,\n",
              "       0.80511447, 0.75579921, 0.88321214, 0.36972054, 0.33593533,\n",
              "       0.86002173, 0.71316232, 0.8248176 , 0.86507552, 0.64746707,\n",
              "       0.74172601, 0.76759417, 0.73362302, 0.68533764, 0.58452872,\n",
              "       0.42367089, 0.68483451, 0.69235895, 0.7859804 , 0.86545107])"
            ]
          },
          "metadata": {},
          "execution_count": 5
        }
      ]
    },
    {
      "cell_type": "code",
      "source": [
        "#Adding an intercept term to the model raises the correlation slightly.\n",
        "# Refit models with intercept explicitly included\n",
        "pearson_correlations_with_intercept = []\n",
        "\n",
        "for i in range(train_adt_subset.shape[0]):\n",
        "    # Select the target protein expression (y) for the current ADT protein\n",
        "    y_train = train_adt_subset[i, :]\n",
        "\n",
        "    # Create and fit the OLS linear regression model with intercept\n",
        "    model = LinearRegression(fit_intercept=True)\n",
        "    model.fit(train_rna_subset.T, y_train)\n",
        "\n",
        "    # Predict the protein expression for the test set\n",
        "    y_pred = model.predict(test_rna_subset.T)\n",
        "\n",
        "    # Evaluate the model using Pearson correlation\n",
        "    correlation, _ = pearsonr(y_pred, test_adt_subset[i, :])\n",
        "    pearson_correlations_with_intercept.append(correlation)\n",
        "\n",
        "# Convert results to a numpy array\n",
        "pearson_correlations_with_intercept = np.array(pearson_correlations_with_intercept)\n",
        "\n",
        "# Display the Pearson correlations for all proteins with intercept\n",
        "pearson_correlations_with_intercept\n",
        "\n"
      ],
      "metadata": {
        "colab": {
          "base_uri": "https://localhost:8080/"
        },
        "id": "OQtzBbFEhmkG",
        "outputId": "852d916c-0f09-44ad-998a-a1cae88ebc07"
      },
      "execution_count": 6,
      "outputs": [
        {
          "output_type": "execute_result",
          "data": {
            "text/plain": [
              "array([0.88385489, 0.93963586, 0.74151062, 0.8182871 , 0.9365866 ,\n",
              "       0.80511447, 0.75579921, 0.88321214, 0.36972054, 0.33593533,\n",
              "       0.86002173, 0.71316232, 0.8248176 , 0.86507552, 0.64746707,\n",
              "       0.74172601, 0.76759417, 0.73362302, 0.68533764, 0.58452872,\n",
              "       0.42367089, 0.68483451, 0.69235895, 0.7859804 , 0.86545107])"
            ]
          },
          "metadata": {},
          "execution_count": 6
        }
      ]
    },
    {
      "cell_type": "markdown",
      "source": [
        "# Predicting using Non-negative Matrix Factorization\n",
        "Nmf is used to obtain a matrix W, which contains the features embedding and matrix H which contains the sample embeddings on the train data then we project the results to the test RNA to get test sample embeddings then predict the test ADT."
      ],
      "metadata": {
        "id": "-aHifCvfiWsK"
      }
    },
    {
      "cell_type": "code",
      "source": [
        "import numpy as np\n",
        "\n",
        "def nmf(X, k, max_iter=1000, verbose=True):\n",
        "    if verbose:\n",
        "        print(f\"Performing NMF with k = {k}\")\n",
        "    # Randomly initialize W and initialize H with small positive values to prevent zero division\n",
        "    np.random.seed(42)\n",
        "    W = np.random.rand(X.shape[0], k)\n",
        "    H = np.zeros((k, X.shape[1])) + 1e-15\n",
        "\n",
        "    for i in range(max_iter):\n",
        "        # Update H and W alternatingly using ALS (Alternating Least Squares)\n",
        "        H *= np.dot(W.T, X) / (np.dot(np.dot(W.T, W), H) + 1e-15)\n",
        "        W *= np.dot(X, H.T) / (np.dot(W, np.dot(H, H.T)) + 1e-15)\n",
        "\n",
        "    return W, H\n",
        "\n",
        "def get_H_test(A, W, k, num_iterations=100):\n",
        "    # Randomly initialize H with correct dimensions\n",
        "    H_hat = np.random.rand(k, A.shape[1])\n",
        "\n",
        "    for i in range(num_iterations):\n",
        "        # Update H_hat using least squares solution\n",
        "        H_hat = np.linalg.lstsq(W.T.dot(W), W.T.dot(A), rcond=None)[0]\n",
        "        # Apply non-negativity constraint\n",
        "        H_hat[H_hat < 0] = 0\n",
        "\n",
        "    return H_hat\n",
        "\n",
        "# Combine ADT and RNA features into a single matrix A\n",
        "A = np.vstack((train_adt_subset, train_rna_subset))\n",
        "\n",
        "nmf_cors = {}\n",
        "\n",
        "# Loop over values of k to find an optimal rank for NMF\n",
        "for k in range(10, 300, 10):\n",
        "    W, H = nmf(A, k, verbose=False)\n",
        "    H_test = get_H_test(test_rna_subset, W[25:], k)\n",
        "    adt_predictions = W[:25].dot(H_test)\n",
        "    # Calculate Pearson correlation for NMF predictions\n",
        "    nmf_cors[k] = np.corrcoef(adt_predictions.flatten(), test_adt_subset.flatten())[0, 1]\n",
        "\n",
        "nmf_cors\n",
        "\n"
      ],
      "metadata": {
        "colab": {
          "base_uri": "https://localhost:8080/"
        },
        "id": "KXJBZV3ViVfP",
        "outputId": "93a4485e-b855-40d0-cb3d-194c803a8305"
      },
      "execution_count": 7,
      "outputs": [
        {
          "output_type": "execute_result",
          "data": {
            "text/plain": [
              "{10: 0.7179013835165015,\n",
              " 20: 0.7643283527472448,\n",
              " 30: 0.764358766427834,\n",
              " 40: 0.7746734355470745,\n",
              " 50: 0.7794378696969156,\n",
              " 60: 0.771861257202653,\n",
              " 70: 0.7802283009132202,\n",
              " 80: 0.7814973024902969,\n",
              " 90: 0.7766157483132857,\n",
              " 100: 0.7766676619331525,\n",
              " 110: 0.7803959242129005,\n",
              " 120: 0.782311390443399,\n",
              " 130: 0.7769175406476553,\n",
              " 140: 0.7784171102399131,\n",
              " 150: 0.7725428335418149,\n",
              " 160: 0.7750842703745662,\n",
              " 170: 0.7733730195574607,\n",
              " 180: 0.7672883059133064,\n",
              " 190: 0.7715214418097933,\n",
              " 200: 0.7681471631489546,\n",
              " 210: 0.7731767555206239,\n",
              " 220: 0.7649582714016627,\n",
              " 230: 0.7556746356228806,\n",
              " 240: 0.7497908479297919,\n",
              " 250: 0.7568082494819177,\n",
              " 260: 0.7652003349519764,\n",
              " 270: 0.7720277307071952,\n",
              " 280: 0.7421688434490142,\n",
              " 290: 0.7625901030194697}"
            ]
          },
          "metadata": {},
          "execution_count": 7
        }
      ]
    },
    {
      "cell_type": "code",
      "source": [
        "import matplotlib.pyplot as plt\n",
        "import seaborn as sns\n",
        "sns.set(style=\"whitegrid\")\n",
        "sns.set_palette(None)\n",
        "plt.figure(figsize=(8,4))\n",
        "\n",
        "plt.plot(nmf_cors.keys(),nmf_cors.values(),marker=\"o\")"
      ],
      "metadata": {
        "colab": {
          "base_uri": "https://localhost:8080/",
          "height": 390
        },
        "id": "cRFVAEbTHtCN",
        "outputId": "3d2bf4c4-0931-4b80-fd1a-2f65a409dfd3"
      },
      "execution_count": 8,
      "outputs": [
        {
          "output_type": "execute_result",
          "data": {
            "text/plain": [
              "[<matplotlib.lines.Line2D at 0x78421f41fdf0>]"
            ]
          },
          "metadata": {},
          "execution_count": 8
        },
        {
          "output_type": "display_data",
          "data": {
            "text/plain": [
              "<Figure size 800x400 with 1 Axes>"
            ],
            "image/png": "[encoded data removed]"
          },
          "metadata": {}
        }
      ]
    },
    {
      "cell_type": "code",
      "source": [
        "f\"highest NMF:{sorted(nmf_cors.values())[-1]}\""
      ],
      "metadata": {
        "colab": {
          "base_uri": "https://localhost:8080/",
          "height": 35
        },
        "id": "rFZuvssZIgO2",
        "outputId": "9838bfe5-a009-487d-e6ca-6167260e3125"
      },
      "execution_count": 9,
      "outputs": [
        {
          "output_type": "execute_result",
          "data": {
            "text/plain": [
              "'highest NMF:0.782311390443399'"
            ],
            "application/vnd.google.colaboratory.intrinsic+json": {
              "type": "string"
            }
          },
          "metadata": {},
          "execution_count": 9
        }
      ]
    },
    {
      "cell_type": "markdown",
      "source": [
        "The highest correlation nmf achieves is 0.78, which means linear regression is a better performing model."
      ],
      "metadata": {
        "id": "nps2skBjn7D2"
      }
    },
    {
      "cell_type": "markdown",
      "source": [
        "# Exploring Other Regression Models.\n",
        "There are numerous regression models available. We selected a few of the best-performing ones to compare against linear regression."
      ],
      "metadata": {
        "id": "wb1igQOwoFqc"
      }
    },
    {
      "cell_type": "code",
      "source": [
        "pip install \"dask[dataframe]\""
      ],
      "metadata": {
        "id": "l3gMD2Cuy4ZX",
        "outputId": "2acb3905-95d5-4ca8-b60a-a5d3ffe42320",
        "colab": {
          "base_uri": "https://localhost:8080/"
        }
      },
      "execution_count": 1,
      "outputs": [
        {
          "output_type": "stream",
          "name": "stdout",
          "text": [
            "Requirement already satisfied: dask[dataframe] in /usr/local/lib/python3.10/dist-packages (2024.8.0)\n",
            "Requirement already satisfied: click>=8.1 in /usr/local/lib/python3.10/dist-packages (from dask[dataframe]) (8.1.7)\n",
            "Requirement already satisfied: cloudpickle>=1.5.0 in /usr/local/lib/python3.10/dist-packages (from dask[dataframe]) (2.2.1)\n",
            "Requirement already satisfied: fsspec>=2021.09.0 in /usr/local/lib/python3.10/dist-packages (from dask[dataframe]) (2024.6.1)\n",
            "Requirement already satisfied: packaging>=20.0 in /usr/local/lib/python3.10/dist-packages (from dask[dataframe]) (24.1)\n",
            "Requirement already satisfied: partd>=1.4.0 in /usr/local/lib/python3.10/dist-packages (from dask[dataframe]) (1.4.2)\n",
            "Requirement already satisfied: pyyaml>=5.3.1 in /usr/local/lib/python3.10/dist-packages (from dask[dataframe]) (6.0.2)\n",
            "Requirement already satisfied: toolz>=0.10.0 in /usr/local/lib/python3.10/dist-packages (from dask[dataframe]) (0.12.1)\n",
            "Requirement already satisfied: importlib-metadata>=4.13.0 in /usr/local/lib/python3.10/dist-packages (from dask[dataframe]) (8.5.0)\n",
            "Requirement already satisfied: pandas>=2.0 in /usr/local/lib/python3.10/dist-packages (from dask[dataframe]) (2.1.4)\n",
            "Collecting dask-expr<1.2,>=1.1 (from dask[dataframe])\n",
            "  Downloading dask_expr-1.1.15-py3-none-any.whl.metadata (2.5 kB)\n",
            "INFO: pip is looking at multiple versions of dask-expr to determine which version is compatible with other requirements. This could take a while.\n",
            "  Downloading dask_expr-1.1.14-py3-none-any.whl.metadata (2.5 kB)\n",
            "  Downloading dask_expr-1.1.13-py3-none-any.whl.metadata (2.5 kB)\n",
            "  Downloading dask_expr-1.1.12-py3-none-any.whl.metadata (2.5 kB)\n",
            "  Downloading dask_expr-1.1.11-py3-none-any.whl.metadata (2.5 kB)\n",
            "  Downloading dask_expr-1.1.10-py3-none-any.whl.metadata (2.5 kB)\n",
            "Requirement already satisfied: pyarrow>=7.0.0 in /usr/local/lib/python3.10/dist-packages (from dask-expr<1.2,>=1.1->dask[dataframe]) (14.0.2)\n",
            "Requirement already satisfied: zipp>=3.20 in /usr/local/lib/python3.10/dist-packages (from importlib-metadata>=4.13.0->dask[dataframe]) (3.20.2)\n",
            "Requirement already satisfied: numpy<2,>=1.22.4 in /usr/local/lib/python3.10/dist-packages (from pandas>=2.0->dask[dataframe]) (1.26.4)\n",
            "Requirement already satisfied: python-dateutil>=2.8.2 in /usr/local/lib/python3.10/dist-packages (from pandas>=2.0->dask[dataframe]) (2.8.2)\n",
            "Requirement already satisfied: pytz>=2020.1 in /usr/local/lib/python3.10/dist-packages (from pandas>=2.0->dask[dataframe]) (2024.2)\n",
            "Requirement already satisfied: tzdata>=2022.1 in /usr/local/lib/python3.10/dist-packages (from pandas>=2.0->dask[dataframe]) (2024.1)\n",
            "Requirement already satisfied: locket in /usr/local/lib/python3.10/dist-packages (from partd>=1.4.0->dask[dataframe]) (1.0.0)\n",
            "Requirement already satisfied: six>=1.5 in /usr/local/lib/python3.10/dist-packages (from python-dateutil>=2.8.2->pandas>=2.0->dask[dataframe]) (1.16.0)\n",
            "Downloading dask_expr-1.1.10-py3-none-any.whl (242 kB)\n",
            "\u001b[2K   \u001b[90m━━━━━━━━━━━━━━━━━━━━━━━━━━━━━━━━━━━━━━━━\u001b[0m \u001b[32m242.2/242.2 kB\u001b[0m \u001b[31m5.7 MB/s\u001b[0m eta \u001b[36m0:00:00\u001b[0m\n",
            "\u001b[?25hInstalling collected packages: dask-expr\n",
            "Successfully installed dask-expr-1.1.10\n"
          ]
        }
      ]
    },
    {
      "cell_type": "code",
      "source": [
        "\n",
        "from sklearn.linear_model import Ridge, Lasso, ElasticNet,SGDRegressor,BayesianRidge\n",
        "from sklearn.svm import SVR\n",
        "from sklearn.neighbors import KNeighborsRegressor\n",
        "from sklearn.tree import DecisionTreeRegressor\n",
        "from sklearn.ensemble import GradientBoostingRegressor, AdaBoostRegressor\n",
        "from sklearn.kernel_ridge import KernelRidge\n",
        "from xgboost.sklearn import XGBRegressor\n",
        "from lightgbm import LGBMRegressor\n",
        "from sklearn.metrics import mean_squared_error\n",
        "from scipy.stats import pearsonr,uniform,expon\n",
        "from time import process_time\n",
        "\n",
        "def test_estimators(estimators,verbose=False):\n",
        "  results = {}\n",
        "  ground_truths = test_adt_subset.flatten()\n",
        "  # Fit models and calculate Pearson correlation\n",
        "  for estimator_name, estimator in estimators:\n",
        "    predictions = []\n",
        "    start = process_time()\n",
        "\n",
        "    for i,y in enumerate(train_adt_subset):\n",
        "      if verbose:\n",
        "        print(f\"Evaluating {estimator}, iteration {i+1}\")\n",
        "      estimator.fit(train_rna_subset.T, y.T)\n",
        "\n",
        "      y_pred = estimator.predict(test_rna_subset.T)\n",
        "      predictions.extend(y_pred)\n",
        "\n",
        "    mse = mean_squared_error(ground_truths, predictions)\n",
        "    correlation, _ = pearsonr(ground_truths, predictions)\n",
        "\n",
        "    end = process_time()\n",
        "\n",
        "    results[estimator_name] = {\n",
        "        'mse': mse,\n",
        "        \"correlation\": correlation,\n",
        "        \"time\": (end-start)/60\n",
        "    }\n",
        "  return results"
      ],
      "metadata": {
        "colab": {
          "base_uri": "https://localhost:8080/"
        },
        "id": "XuZ4m8gyn1xJ",
        "outputId": "f74d2d67-d412-4eb9-831c-955bbe6f10f8"
      },
      "execution_count": 10,
      "outputs": [
        {
          "output_type": "stream",
          "name": "stderr",
          "text": [
            "/usr/local/lib/python3.10/dist-packages/dask/dataframe/__init__.py:42: FutureWarning: \n",
            "Dask dataframe query planning is disabled because dask-expr is not installed.\n",
            "\n",
            "You can install it with `pip install dask[dataframe]` or `conda install dask`.\n",
            "This will raise in a future version.\n",
            "\n",
            "  warnings.warn(msg, FutureWarning)\n"
          ]
        }
      ]
    },
    {
      "cell_type": "code",
      "source": [
        "estimators = [\n",
        "      (\"LGBMRegressor\",LGBMRegressor()),\n",
        "      (\"XGBRegressor\",XGBRegressor()),\n",
        "      (\"BayesianRidge\",BayesianRidge()),\n",
        "      ('Ridge', Ridge()),\n",
        "      ('Lasso', Lasso()),\n",
        "      (\"SVR\", SVR()),\n",
        "      ('ElasticNet', ElasticNet()),\n",
        "      ('KNeighborsRegressor', KNeighborsRegressor()),\n",
        "      ('DecisionTreeRegressor', DecisionTreeRegressor()),\n",
        "      ('GradientBoostingRegressor', GradientBoostingRegressor()),\n",
        "      ('AdaBoostRegressor', AdaBoostRegressor()),\n",
        "  ]\n",
        "results = test_estimators(estimators)\n",
        ""
      ],
      "metadata": {
        "colab": {
          "base_uri": "https://localhost:8080/"
        },
        "id": "R2YmFGhspwhv",
        "outputId": "c7d0c7e4-15a7-4e04-c9bf-1578d0441c95"
      },
      "execution_count": 12,
      "outputs": [
        {
          "metadata": {
            "tags": null
          },
          "name": "stdout",
          "output_type": "stream",
          "text": [
            "[LightGBM] [Info] Auto-choosing col-wise multi-threading, the overhead of testing was 0.238704 seconds.\n",
            "You can set `force_col_wise=true` to remove the overhead.\n",
            "[LightGBM] [Info] Total Bins 154063\n",
            "[LightGBM] [Info] Number of data points in the train set: 3000, number of used features: 639\n",
            "[LightGBM] [Info] Start training from score 0.799801\n",
            "[LightGBM] [Info] Auto-choosing col-wise multi-threading, the overhead of testing was 0.158733 seconds.\n",
            "You can set `force_col_wise=true` to remove the overhead.\n",
            "[LightGBM] [Info] Total Bins 154063\n",
            "[LightGBM] [Info] Number of data points in the train set: 3000, number of used features: 639\n",
            "[LightGBM] [Info] Start training from score 0.899641\n",
            "[LightGBM] [Info] Auto-choosing col-wise multi-threading, the overhead of testing was 0.054477 seconds.\n",
            "You can set `force_col_wise=true` to remove the overhead.\n",
            "[LightGBM] [Info] Total Bins 154063\n",
            "[LightGBM] [Info] Number of data points in the train set: 3000, number of used features: 639\n",
            "[LightGBM] [Info] Start training from score 0.790265\n",
            "[LightGBM] [Info] Auto-choosing col-wise multi-threading, the overhead of testing was 0.074031 seconds.\n",
            "You can set `force_col_wise=true` to remove the overhead.\n",
            "[LightGBM] [Info] Total Bins 154063\n",
            "[LightGBM] [Info] Number of data points in the train set: 3000, number of used features: 639\n",
            "[LightGBM] [Info] Start training from score 0.830538\n",
            "[LightGBM] [Info] Auto-choosing col-wise multi-threading, the overhead of testing was 0.052048 seconds.\n",
            "You can set `force_col_wise=true` to remove the overhead.\n",
            "[LightGBM] [Info] Total Bins 154063\n",
            "[LightGBM] [Info] Number of data points in the train set: 3000, number of used features: 639\n",
            "[LightGBM] [Info] Start training from score 0.908176\n",
            "[LightGBM] [Info] Auto-choosing col-wise multi-threading, the overhead of testing was 0.051558 seconds.\n",
            "You can set `force_col_wise=true` to remove the overhead.\n",
            "[LightGBM] [Info] Total Bins 154063\n",
            "[LightGBM] [Info] Number of data points in the train set: 3000, number of used features: 639\n",
            "[LightGBM] [Info] Start training from score 0.760119\n",
            "[LightGBM] [Info] Auto-choosing col-wise multi-threading, the overhead of testing was 0.072238 seconds.\n",
            "You can set `force_col_wise=true` to remove the overhead.\n",
            "[LightGBM] [Info] Total Bins 154063\n",
            "[LightGBM] [Info] Number of data points in the train set: 3000, number of used features: 639\n",
            "[LightGBM] [Info] Start training from score 0.739463\n",
            "[LightGBM] [Info] Auto-choosing col-wise multi-threading, the overhead of testing was 0.054688 seconds.\n",
            "You can set `force_col_wise=true` to remove the overhead.\n",
            "[LightGBM] [Info] Total Bins 154063\n",
            "[LightGBM] [Info] Number of data points in the train set: 3000, number of used features: 639\n",
            "[LightGBM] [Info] Start training from score 0.832591\n",
            "[LightGBM] [Info] Auto-choosing col-wise multi-threading, the overhead of testing was 0.069055 seconds.\n",
            "You can set `force_col_wise=true` to remove the overhead.\n",
            "[LightGBM] [Info] Total Bins 154063\n",
            "[LightGBM] [Info] Number of data points in the train set: 3000, number of used features: 639\n",
            "[LightGBM] [Info] Start training from score 0.705165\n",
            "[LightGBM] [Info] Auto-choosing col-wise multi-threading, the overhead of testing was 0.053037 seconds.\n",
            "You can set `force_col_wise=true` to remove the overhead.\n",
            "[LightGBM] [Info] Total Bins 154063\n",
            "[LightGBM] [Info] Number of data points in the train set: 3000, number of used features: 639\n",
            "[LightGBM] [Info] Start training from score 0.666720\n",
            "[LightGBM] [Info] Auto-choosing col-wise multi-threading, the overhead of testing was 0.053398 seconds.\n",
            "You can set `force_col_wise=true` to remove the overhead.\n",
            "[LightGBM] [Info] Total Bins 154063\n",
            "[LightGBM] [Info] Number of data points in the train set: 3000, number of used features: 639\n",
            "[LightGBM] [Info] Start training from score 0.853084\n",
            "[LightGBM] [Info] Auto-choosing col-wise multi-threading, the overhead of testing was 0.069579 seconds.\n",
            "You can set `force_col_wise=true` to remove the overhead.\n",
            "[LightGBM] [Info] Total Bins 154063\n",
            "[LightGBM] [Info] Number of data points in the train set: 3000, number of used features: 639\n",
            "[LightGBM] [Info] Start training from score 0.755039\n",
            "[LightGBM] [Info] Auto-choosing col-wise multi-threading, the overhead of testing was 0.058356 seconds.\n",
            "You can set `force_col_wise=true` to remove the overhead.\n",
            "[LightGBM] [Info] Total Bins 154063\n",
            "[LightGBM] [Info] Number of data points in the train set: 3000, number of used features: 639\n",
            "[LightGBM] [Info] Start training from score 0.777280\n",
            "[LightGBM] [Info] Auto-choosing col-wise multi-threading, the overhead of testing was 0.054801 seconds.\n",
            "You can set `force_col_wise=true` to remove the overhead.\n",
            "[LightGBM] [Info] Total Bins 154063\n",
            "[LightGBM] [Info] Number of data points in the train set: 3000, number of used features: 639\n",
            "[LightGBM] [Info] Start training from score 0.917274\n",
            "[LightGBM] [Info] Auto-choosing col-wise multi-threading, the overhead of testing was 0.062477 seconds.\n",
            "You can set `force_col_wise=true` to remove the overhead.\n",
            "[LightGBM] [Info] Total Bins 154063\n",
            "[LightGBM] [Info] Number of data points in the train set: 3000, number of used features: 639\n",
            "[LightGBM] [Info] Start training from score 0.761167\n",
            "[LightGBM] [Info] Auto-choosing col-wise multi-threading, the overhead of testing was 0.056496 seconds.\n",
            "You can set `force_col_wise=true` to remove the overhead.\n",
            "[LightGBM] [Info] Total Bins 154063\n",
            "[LightGBM] [Info] Number of data points in the train set: 3000, number of used features: 639\n",
            "[LightGBM] [Info] Start training from score 0.864364\n",
            "[LightGBM] [Info] Auto-choosing col-wise multi-threading, the overhead of testing was 0.073980 seconds.\n",
            "You can set `force_col_wise=true` to remove the overhead.\n",
            "[LightGBM] [Info] Total Bins 154063\n",
            "[LightGBM] [Info] Number of data points in the train set: 3000, number of used features: 639\n",
            "[LightGBM] [Info] Start training from score 0.960139\n",
            "[LightGBM] [Info] Auto-choosing col-wise multi-threading, the overhead of testing was 0.056375 seconds.\n",
            "You can set `force_col_wise=true` to remove the overhead.\n",
            "[LightGBM] [Info] Total Bins 154063\n",
            "[LightGBM] [Info] Number of data points in the train set: 3000, number of used features: 639\n",
            "[LightGBM] [Info] Start training from score 0.856614\n",
            "[LightGBM] [Info] Auto-choosing col-wise multi-threading, the overhead of testing was 0.056174 seconds.\n",
            "You can set `force_col_wise=true` to remove the overhead.\n",
            "[LightGBM] [Info] Total Bins 154063\n",
            "[LightGBM] [Info] Number of data points in the train set: 3000, number of used features: 639\n",
            "[LightGBM] [Info] Start training from score 0.790243\n",
            "[LightGBM] [Info] Auto-choosing col-wise multi-threading, the overhead of testing was 0.072141 seconds.\n",
            "You can set `force_col_wise=true` to remove the overhead.\n",
            "[LightGBM] [Info] Total Bins 154063\n",
            "[LightGBM] [Info] Number of data points in the train set: 3000, number of used features: 639\n",
            "[LightGBM] [Info] Start training from score 0.699103\n",
            "[LightGBM] [Info] Auto-choosing col-wise multi-threading, the overhead of testing was 0.055528 seconds.\n",
            "You can set `force_col_wise=true` to remove the overhead.\n",
            "[LightGBM] [Info] Total Bins 154063\n",
            "[LightGBM] [Info] Number of data points in the train set: 3000, number of used features: 639\n",
            "[LightGBM] [Info] Start training from score 0.712423\n",
            "[LightGBM] [Info] Auto-choosing col-wise multi-threading, the overhead of testing was 0.057522 seconds.\n",
            "You can set `force_col_wise=true` to remove the overhead.\n",
            "[LightGBM] [Info] Total Bins 154063\n",
            "[LightGBM] [Info] Number of data points in the train set: 3000, number of used features: 639\n",
            "[LightGBM] [Info] Start training from score 0.797439\n",
            "[LightGBM] [Info] Auto-choosing col-wise multi-threading, the overhead of testing was 0.055777 seconds.\n",
            "You can set `force_col_wise=true` to remove the overhead.\n",
            "[LightGBM] [Info] Total Bins 154063\n",
            "[LightGBM] [Info] Number of data points in the train set: 3000, number of used features: 639\n",
            "[LightGBM] [Info] Start training from score 0.708219\n",
            "[LightGBM] [Info] Auto-choosing col-wise multi-threading, the overhead of testing was 0.055661 seconds.\n",
            "You can set `force_col_wise=true` to remove the overhead.\n",
            "[LightGBM] [Info] Total Bins 154063\n",
            "[LightGBM] [Info] Number of data points in the train set: 3000, number of used features: 639\n",
            "[LightGBM] [Info] Start training from score 1.033951\n",
            "[LightGBM] [Info] Auto-choosing col-wise multi-threading, the overhead of testing was 0.056101 seconds.\n",
            "You can set `force_col_wise=true` to remove the overhead.\n",
            "[LightGBM] [Info] Total Bins 154063\n",
            "[LightGBM] [Info] Number of data points in the train set: 3000, number of used features: 639\n",
            "[LightGBM] [Info] Start training from score 0.828231\n"
          ]
        }
      ]
    },
    {
      "cell_type": "code",
      "source": [
        "\n",
        "for estimator_name, result in results.items():\n",
        "    print(\"*\"*30)\n",
        "    print(f\"{estimator_name}:\")\n",
        "    print(f\"Mean Squared Error: {result['mse']:.3f}\")\n",
        "    print(f\"Pearson Correlation: {result['correlation']:.3f}\")\n",
        "    print(f\"Time in minutes: {result['time']:.2f}\")\n",
        "    print('*'*30,\"\\n\")"
      ],
      "metadata": {
        "colab": {
          "base_uri": "https://localhost:8080/"
        },
        "id": "uxIZaTKQANOo",
        "outputId": "cf907609-a859-4ff7-dded-c271236283bb"
      },
      "execution_count": 13,
      "outputs": [
        {
          "output_type": "stream",
          "name": "stdout",
          "text": [
            "******************************\n",
            "LGBMRegressor:\n",
            "Mean Squared Error: 0.125\n",
            "Pearson Correlation: 0.853\n",
            "Time in minutes: 3.83\n",
            "****************************** \n",
            "\n",
            "******************************\n",
            "XGBRegressor:\n",
            "Mean Squared Error: 0.142\n",
            "Pearson Correlation: 0.831\n",
            "Time in minutes: 20.55\n",
            "****************************** \n",
            "\n",
            "******************************\n",
            "BayesianRidge:\n",
            "Mean Squared Error: 0.153\n",
            "Pearson Correlation: 0.816\n",
            "Time in minutes: 0.64\n",
            "****************************** \n",
            "\n",
            "******************************\n",
            "Ridge:\n",
            "Mean Squared Error: 0.171\n",
            "Pearson Correlation: 0.798\n",
            "Time in minutes: 0.15\n",
            "****************************** \n",
            "\n",
            "******************************\n",
            "Lasso:\n",
            "Mean Squared Error: 0.424\n",
            "Pearson Correlation: 0.311\n",
            "Time in minutes: 0.05\n",
            "****************************** \n",
            "\n",
            "******************************\n",
            "SVR:\n",
            "Mean Squared Error: 0.142\n",
            "Pearson Correlation: 0.833\n",
            "Time in minutes: 1.81\n",
            "****************************** \n",
            "\n",
            "******************************\n",
            "ElasticNet:\n",
            "Mean Squared Error: 0.377\n",
            "Pearson Correlation: 0.472\n",
            "Time in minutes: 0.06\n",
            "****************************** \n",
            "\n",
            "******************************\n",
            "KNeighborsRegressor:\n",
            "Mean Squared Error: 0.271\n",
            "Pearson Correlation: 0.707\n",
            "Time in minutes: 0.07\n",
            "****************************** \n",
            "\n",
            "******************************\n",
            "DecisionTreeRegressor:\n",
            "Mean Squared Error: 0.281\n",
            "Pearson Correlation: 0.695\n",
            "Time in minutes: 1.08\n",
            "****************************** \n",
            "\n",
            "******************************\n",
            "GradientBoostingRegressor:\n",
            "Mean Squared Error: 0.130\n",
            "Pearson Correlation: 0.847\n",
            "Time in minutes: 22.00\n",
            "****************************** \n",
            "\n",
            "******************************\n",
            "AdaBoostRegressor:\n",
            "Mean Squared Error: 0.192\n",
            "Pearson Correlation: 0.796\n",
            "Time in minutes: 5.57\n",
            "****************************** \n",
            "\n"
          ]
        }
      ]
    },
    {
      "cell_type": "code",
      "source": [
        "from sklearn.svm import SVC\n",
        "import matplotlib.pyplot as plt\n",
        "\n",
        "# Create some dummy data for two classes\n",
        "np.random.seed(1)\n",
        "negatives = np.random.multivariate_normal([3,0],[[1,.5],[.5,1]],500)#pass mean and covariance matrix of the dummy multivariate normal distribution\n",
        "positives = np.random.multivariate_normal([0,3],[[1,.5],[.5,1]],500)\n",
        "X = np.r_[negatives,positives]\n",
        "y = [0]*500 + [1]*500\n",
        "\n",
        "svc = SVC(kernel='linear')\n",
        "svc.fit(X, y)\n",
        "\n",
        "# plot hyperplane by expressing line [w[0],w[1]].[x,y]+b=0 into y=mx+c form.\n",
        "w = svc.coef_[0]\n",
        "xx = np.linspace(-5, 5)\n",
        "yy = -w[0]/w[1] * xx - (svc.intercept_[0])/w[1]\n",
        "\n",
        "plt.scatter(X[:, 0], X[:, 1], c=y,cmap=\"Accent_r\")\n",
        "\n",
        "plt.scatter(svc.support_vectors_[:, 0], svc.support_vectors_[:, 1], s=100, facecolors='none', edgecolors='k')#apply styling to support vectors\n",
        "plt.plot(xx, yy, 'k-')\n",
        "\n",
        "plt.title(\"SVM linear separation in 2 Dimensions\")\n",
        "\n",
        ""
      ],
      "metadata": {
        "colab": {
          "base_uri": "https://localhost:8080/",
          "height": 474
        },
        "id": "bP56ewU8BFEO",
        "outputId": "a3a43104-94a9-4eab-f973-e885337b9383"
      },
      "execution_count": 15,
      "outputs": [
        {
          "output_type": "execute_result",
          "data": {
            "text/plain": [
              "Text(0.5, 1.0, 'SVM linear separation in 2 Dimensions')"
            ]
          },
          "metadata": {},
          "execution_count": 15
        },
        {
          "output_type": "display_data",
          "data": {
            "text/plain": [
              "<Figure size 640x480 with 1 Axes>"
            ],
            "image/png": "[encoded data removed]"
          },
          "metadata": {}
        }
      ]
    },
    {
      "cell_type": "markdown",
      "source": [
        "# Tuning Support Vector Regression\n",
        "Let's try to fine-tune SVR to see if we'll get a better fit. Hyperparameter tuning can be computationally intensive and thus we should choose to fine-tune only parameters that are important. To impose non-linearity, we use rbf as the kernel function."
      ],
      "metadata": {
        "id": "7vxppwfFz78j"
      }
    },
    {
      "cell_type": "code",
      "source": [
        "def search(params,search_type=\"random\",num=5):\n",
        "  from itertools import product\n",
        "\n",
        "  search_combos = list(product(*params.values()))\n",
        "  search_parameters = [dict(zip(params.keys(), combination)) for combination in search_combos]\n",
        "  if search_type.lower() == 'grid':\n",
        "    pass\n",
        "  else:\n",
        "    import random\n",
        "    random.seed(6495)\n",
        "    try:\n",
        "      search_parameters = random.sample(search_parameters,num)\n",
        "    except ValueError:\n",
        "      print(\"parameter num exceeds search space... using grid\")\n",
        "  params_results = []\n",
        "  for param_combo in search_parameters:\n",
        "      params_results.append((param_combo,test_estimators([(\"SVR\",SVR(**param_combo))],False)))\n",
        "\n",
        "  return params_results"
      ],
      "metadata": {
        "id": "dDMuCPSsBfzr"
      },
      "execution_count": 1,
      "outputs": []
    },
    {
      "cell_type": "code",
      "source": [
        "\n",
        "params = {\n",
        "      'C': [1, 2,3,4],\n",
        "      'kernel': ['rbf'],\n",
        "      'gamma': [\"auto\",\"scale\"],\n",
        "      'degree': [1],# degree parameter is only useful to tune in polynomial kernels\n",
        "      'epsilon': [.001,.01]\n",
        "  }\n",
        "results = search(params,'grid')\n",
        ""
      ],
      "metadata": {
        "id": "0a2iyWRABvf6"
      },
      "execution_count": 14,
      "outputs": []
    },
    {
      "cell_type": "code",
      "source": [
        "l = sorted([(param_combo,result[\"SVR\"][\"correlation\"]) for  param_combo,result in results],key=lambda x:x[1],reverse=True)\n",
        "l[:3]"
      ],
      "metadata": {
        "colab": {
          "base_uri": "https://localhost:8080/"
        },
        "id": "1rfwPY8X8u-K",
        "outputId": "1a5a7b0c-6304-4085-bf6a-a47dde55c86c"
      },
      "execution_count": 16,
      "outputs": [
        {
          "output_type": "execute_result",
          "data": {
            "text/plain": [
              "[({'C': 2, 'kernel': 'rbf', 'gamma': 'auto', 'degree': 1, 'epsilon': 0.01},\n",
              "  0.8496138437184753),\n",
              " ({'C': 2, 'kernel': 'rbf', 'gamma': 'auto', 'degree': 1, 'epsilon': 0.001},\n",
              "  0.8495893234617047),\n",
              " ({'C': 3, 'kernel': 'rbf', 'gamma': 'auto', 'degree': 1, 'epsilon': 0.001},\n",
              "  0.8487801953987102)]"
            ]
          },
          "metadata": {},
          "execution_count": 16
        }
      ]
    },
    {
      "cell_type": "code",
      "source": [
        "predictions = []\n",
        "estimator = SVR(**{'C': 2, 'kernel': 'rbf', 'gamma': 'auto', 'degree': 2, 'epsilon': 0.001})\n",
        "for y in train_adt:\n",
        "  estimator.fit(train_rna.T, y.T)\n",
        "  y_pred = estimator.predict(test_rna.T)\n",
        "  predictions.append(y_pred)\n"
      ],
      "metadata": {
        "id": "TFduGJ8Q8zpe"
      },
      "execution_count": 17,
      "outputs": []
    },
    {
      "cell_type": "code",
      "source": [
        "predicted_flattened = np.array(predictions).T.flatten()"
      ],
      "metadata": {
        "id": "caW8YN7d84Qn"
      },
      "execution_count": 18,
      "outputs": []
    },
    {
      "cell_type": "code",
      "source": [
        "submission = pd.DataFrame({\"ID\":[f\"ID_{i+1}\" for i in range(len(predicted_flattened))], \"Expected\":predicted_flattened})\n",
        "submission.to_csv(\"CIS_678_project2_submission.csv\", index=False)"
      ],
      "metadata": {
        "id": "eNJGmu8X8737"
      },
      "execution_count": 19,
      "outputs": []
    },
    {
      "cell_type": "code",
      "source": [
        "from google.colab import files\n",
        "files.download(\"CIS_678_project2_submission.csv\")"
      ],
      "metadata": {
        "id": "TQJPi5LWM_4P",
        "outputId": "41bf76da-2c4f-4712-a609-6e0472e7c930",
        "colab": {
          "base_uri": "https://localhost:8080/",
          "height": 17
        }
      },
      "execution_count": 20,
      "outputs": [
        {
          "output_type": "display_data",
          "data": {
            "text/plain": [
              "<IPython.core.display.Javascript object>"
            ],
            "application/javascript": [
              "\n",
              "    async function download(id, filename, size) {\n",
              "      if (!google.colab.kernel.accessAllowed) {\n",
              "        return;\n",
              "      }\n",
              "      const div = document.createElement('div');\n",
              "      const label = document.createElement('label');\n",
              "      label.textContent = `Downloading \"${filename}\": `;\n",
              "      div.appendChild(label);\n",
              "      const progress = document.createElement('progress');\n",
              "      progress.max = size;\n",
              "      div.appendChild(progress);\n",
              "      document.body.appendChild(div);\n",
              "\n",
              "      const buffers = [];\n",
              "      let downloaded = 0;\n",
              "\n",
              "      const channel = await google.colab.kernel.comms.open(id);\n",
              "      // Send a message to notify the kernel that we're ready.\n",
              "      channel.send({})\n",
              "\n",
              "      for await (const message of channel.messages) {\n",
              "        // Send a message to notify the kernel that we're ready.\n",
              "        channel.send({})\n",
              "        if (message.buffers) {\n",
              "          for (const buffer of message.buffers) {\n",
              "            buffers.push(buffer);\n",
              "            downloaded += buffer.byteLength;\n",
              "            progress.value = downloaded;\n",
              "          }\n",
              "        }\n",
              "      }\n",
              "      const blob = new Blob(buffers, {type: 'application/binary'});\n",
              "      const a = document.createElement('a');\n",
              "      a.href = window.URL.createObjectURL(blob);\n",
              "      a.download = filename;\n",
              "      div.appendChild(a);\n",
              "      a.click();\n",
              "      div.remove();\n",
              "    }\n",
              "  "
            ]
          },
          "metadata": {}
        },
        {
          "output_type": "display_data",
          "data": {
            "text/plain": [
              "<IPython.core.display.Javascript object>"
            ],
            "application/javascript": [
              "download(\"download_a4e30e63-b2e1-41cc-857a-570a34ef855a\", \"CIS_678_project2_submission.csv\", 689780)"
            ]
          },
          "metadata": {}
        }
      ]
    }
  ]
}